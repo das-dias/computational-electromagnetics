{
 "cells": [
  {
   "cell_type": "markdown",
   "metadata": {},
   "source": [
    "# Final Project Assignment: Interconnect Performance Analysis Tool\n",
    "\n",
    "The objective of this project is to develop a script that:\n",
    "\n",
    "1. Parses an integrated circuit (IC) layout file in GDSII format\n",
    "2. Parses a file with input and output port information\n",
    "3. Computes the parasitic:\n",
    "   1. Capacitance\n",
    "   2. Resistance\n",
    "   3. Inductance\n",
    "4. Generates visual reports for:\n",
    "   1. Resistance map (throughout the whole interconnect)\n",
    "   2. Capacitance map (throughout the whole interconnect)\n",
    "   3. Inductance (throughout the whole interconnect)\n",
    "   Note: Capacitance map should include (phase) delay information\n",
    "5. Compiles the extracted parasitics into an appropriate linear circuit netlist\n",
    "6. Simulates the circuit's step response to obtain eye diagram with rise and fall time measurements between output and input port of a target interconnect\n",
    "7. Compute cross-talk noise between the target interconnect and its neighbors\n",
    "9. Generates an automatic report with: \n",
    "   1. Obtained visual results\n",
    "   2. Computational memory and time resources used\n",
    "\n",
    "\n",
    "Have fun :-)"
   ]
  },
  {
   "cell_type": "code",
   "execution_count": null,
   "metadata": {},
   "outputs": [],
   "source": []
  }
 ],
 "metadata": {
  "language_info": {
   "name": "python"
  }
 },
 "nbformat": 4,
 "nbformat_minor": 2
}
